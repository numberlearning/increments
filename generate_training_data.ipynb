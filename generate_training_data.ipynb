{
 "cells": [
  {
   "cell_type": "markdown",
   "metadata": {},
   "source": [
    "# Generate Position-Only Training Data"
   ]
  },
  {
   "cell_type": "code",
   "execution_count": 1,
   "metadata": {},
   "outputs": [],
   "source": [
    "import sys\n",
    "import numpy as np\n",
    "import random\n",
    "from tqdm import tqdm\n",
    "from model_settings import img_height, img_width, min_blobs_train, max_blobs_train"
   ]
  },
  {
   "cell_type": "code",
   "execution_count": 2,
   "metadata": {},
   "outputs": [],
   "source": [
    "margin = 5\n",
    "spacing = 15#20\n",
    "width = height = 3\n",
    "min_blobs = min_blobs_train\n",
    "max_blobs = max_blobs_train\n",
    "num_labels = max_blobs - min_blobs + 1\n",
    "num_sequences = 1000"
   ]
  },
  {
   "cell_type": "code",
   "execution_count": 3,
   "metadata": {},
   "outputs": [],
   "source": [
    "def get_blob(blob_cnt, used):\n",
    "    \"\"\"\n",
    "    Get positions x, y of top left corner of new blob,\n",
    "    given an image with already blob_cnt blobs,\n",
    "    placed margin from the edge of the image,\n",
    "    placed spacing apart from other blobs,\n",
    "    of dimensions width x height.\n",
    "    \"\"\"\n",
    "    \n",
    "    # Get random coordinates for the top-left corner of a blob\n",
    "    x = random.randint(margin, img_width-margin-width)\n",
    "    y = random.randint(margin, img_height-margin-height)\n",
    "\n",
    "    # Check that new blob doesn't overlap with any of the other blobs\n",
    "    blob_idx = 0\n",
    "    tries = 0\n",
    "    while blob_idx < blob_cnt:\n",
    "        if (x+width+spacing <= used[blob_idx, 0] \n",
    "            or used[blob_idx, 0]+spacing+used[blob_idx, 2] <= x \n",
    "            or used[blob_idx, 1]+spacing+used[blob_idx,3] <= y \n",
    "            or y+height+spacing<=used[blob_idx,1]): \n",
    "            blob_idx = blob_idx + 1\n",
    "            tries = 0\n",
    "        else:\n",
    "            # Overlapped with some blob, regenerate coordinates for new blob\n",
    "            x = random.randint(margin, img_width-margin-width)\n",
    "            y = random.randint(margin, img_height-margin-height)\n",
    "            blob_idx = 0\n",
    "            tries += 1\n",
    "\n",
    "            # Hangup, so restart adding blobs\n",
    "            if tries > 5:\n",
    "                raise Exception(\"Hangup, blob cannot be added\")\n",
    "            \n",
    "    return x, y\n",
    "\n",
    "\n",
    "def get_img(N):\n",
    "    \"\"\"\n",
    "    Create an image with N blobs of width x height,\n",
    "    a margin along the edge of the image,\n",
    "    and spacing between the blobs.\n",
    "    \"\"\"\n",
    "    \n",
    "    img = np.zeros(img_height*img_width) # initialize empty image\n",
    "    blob_cnt = 0 # count of blobs in each image \n",
    "    used = np.zeros((N, 4)) # bookkeep positions of blobs\n",
    "    while blob_cnt < N:\n",
    "        try:\n",
    "            x, y = get_blob(blob_cnt, used)\n",
    "            \n",
    "            # Bookkeep new blob position information\n",
    "            used[blob_cnt, 0] = int(x)\n",
    "            used[blob_cnt, 1] = int(y)\n",
    "            used[blob_cnt, 2] = width\n",
    "            used[blob_cnt, 3] = height\n",
    "\n",
    "            # Fill in pixels for new blob\n",
    "            for p in range(y, y+height):\n",
    "                for q in range(x, x+width):\n",
    "                    img[p*img_width+q] = 255\n",
    "            blob_cnt += 1\n",
    "        except:\n",
    "            img = np.zeros(img_height*img_width)\n",
    "            blob_cnt = 0\n",
    "            used = np.zeros((N, 4))\n",
    "    return img, used.astype(int)\n",
    "\n",
    "\n",
    "\n",
    "def get_po_images():\n",
    "    \"\"\"\n",
    "    Get testing dataset where the only variable is position,\n",
    "    and 1000 sets of images where blobs are placed incrementally.\n",
    "    \"\"\"\n",
    "    images = np.zeros([num_sequences, max_blobs-min_blobs+1, img_height*img_width])\n",
    "    label_scalar = np.zeros([num_sequences, max_blobs-min_blobs+1, 1])\n",
    "    label_classifier = np.zeros([num_sequences, max_blobs-min_blobs+1, max_blobs-min_blobs+1])\n",
    "\n",
    "    total_img_cnt = 0\n",
    "    for sequence_cnt in tqdm(range(num_sequences)):\n",
    "        for curr_num in range(max_blobs, 0, -1):\n",
    "            if curr_num is max_blobs:\n",
    "                img, used = get_img(curr_num)\n",
    "            else:\n",
    "                x, y, _, _ = used[curr_num]\n",
    "                for p in range(y, y+height):\n",
    "                    for q in range(x, x+width):\n",
    "                        img[p*img_width+q] = 0\n",
    "            images[sequence_cnt, curr_num-1] = img[:]\n",
    "            label_scalar[sequence_cnt, curr_num-1] = curr_num\n",
    "            label_classifier[sequence_cnt, curr_num-1, curr_num-1] = 1\n",
    "\n",
    "    np.set_printoptions(threshold=np.nan)\n",
    "    return images, label_scalar, label_classifier\n"
   ]
  },
  {
   "cell_type": "code",
   "execution_count": 4,
   "metadata": {},
   "outputs": [
    {
     "name": "stderr",
     "output_type": "stream",
     "text": [
      "100%|██████████| 1000/1000 [00:19<00:00, 51.24it/s]\n"
     ]
    }
   ],
   "source": [
    "images, label_scalar, label_classifier = get_po_images()"
   ]
  },
  {
   "cell_type": "code",
   "execution_count": 5,
   "metadata": {},
   "outputs": [],
   "source": [
    "import pickle\n",
    "pickle.dump( (images, label_scalar, label_classifier), open( \"po_train.pkl\", \"wb\" ) )\n",
    "images, label_scalar, label_classifier = pickle.load( open( \"po_train.pkl\", \"rb\" ) )"
   ]
  },
  {
   "cell_type": "code",
   "execution_count": 6,
   "metadata": {},
   "outputs": [
    {
     "data": {
      "text/plain": [
       "<matplotlib.figure.Figure at 0x7f448810ad68>"
      ]
     },
     "metadata": {},
     "output_type": "display_data"
    }
   ],
   "source": [
    "import matplotlib.pyplot as plt\n",
    "def chunks(l, n):\n",
    "    for i in range(0, len(l), n):\n",
    "        yield l[i:i + n]\n",
    "        \n",
    "num_sequences_to_plot = 3\n",
    "fig, axs = plt.subplots(num_sequences_to_plot, max_blobs, figsize=(50,25))\n",
    "\n",
    "for sequence_idx in range(num_sequences_to_plot):\n",
    "    for i in range(max_blobs):\n",
    "        axs[sequence_idx, i].imshow(list(chunks(images[sequence_idx, i], 100))) \n",
    "plt.show()"
   ]
  },
  {
   "cell_type": "code",
   "execution_count": 7,
   "metadata": {},
   "outputs": [
    {
     "data": {
      "text/plain": [
       "array([ 1.,  2.,  3.,  4.,  5.,  6.,  7.,  8.,  9., 10., 11., 12., 13.,\n",
       "       14., 15.])"
      ]
     },
     "execution_count": 7,
     "metadata": {},
     "output_type": "execute_result"
    }
   ],
   "source": [
    "label_scalar[0,:,0]"
   ]
  },
  {
   "cell_type": "code",
   "execution_count": 8,
   "metadata": {},
   "outputs": [
    {
     "data": {
      "text/plain": [
       "array([[1., 0., 0., 0., 0., 0., 0., 0., 0., 0., 0., 0., 0., 0., 0.],\n",
       "       [0., 1., 0., 0., 0., 0., 0., 0., 0., 0., 0., 0., 0., 0., 0.],\n",
       "       [0., 0., 1., 0., 0., 0., 0., 0., 0., 0., 0., 0., 0., 0., 0.],\n",
       "       [0., 0., 0., 1., 0., 0., 0., 0., 0., 0., 0., 0., 0., 0., 0.],\n",
       "       [0., 0., 0., 0., 1., 0., 0., 0., 0., 0., 0., 0., 0., 0., 0.],\n",
       "       [0., 0., 0., 0., 0., 1., 0., 0., 0., 0., 0., 0., 0., 0., 0.],\n",
       "       [0., 0., 0., 0., 0., 0., 1., 0., 0., 0., 0., 0., 0., 0., 0.],\n",
       "       [0., 0., 0., 0., 0., 0., 0., 1., 0., 0., 0., 0., 0., 0., 0.],\n",
       "       [0., 0., 0., 0., 0., 0., 0., 0., 1., 0., 0., 0., 0., 0., 0.],\n",
       "       [0., 0., 0., 0., 0., 0., 0., 0., 0., 1., 0., 0., 0., 0., 0.],\n",
       "       [0., 0., 0., 0., 0., 0., 0., 0., 0., 0., 1., 0., 0., 0., 0.],\n",
       "       [0., 0., 0., 0., 0., 0., 0., 0., 0., 0., 0., 1., 0., 0., 0.],\n",
       "       [0., 0., 0., 0., 0., 0., 0., 0., 0., 0., 0., 0., 1., 0., 0.],\n",
       "       [0., 0., 0., 0., 0., 0., 0., 0., 0., 0., 0., 0., 0., 1., 0.],\n",
       "       [0., 0., 0., 0., 0., 0., 0., 0., 0., 0., 0., 0., 0., 0., 1.]])"
      ]
     },
     "execution_count": 8,
     "metadata": {},
     "output_type": "execute_result"
    }
   ],
   "source": [
    "label_classifier[0,:]"
   ]
  },
  {
   "cell_type": "code",
   "execution_count": null,
   "metadata": {},
   "outputs": [],
   "source": []
  },
  {
   "cell_type": "code",
   "execution_count": null,
   "metadata": {},
   "outputs": [],
   "source": []
  }
 ],
 "metadata": {
  "kernelspec": {
   "display_name": "Python 3",
   "language": "python",
   "name": "python3"
  },
  "language_info": {
   "codemirror_mode": {
    "name": "ipython",
    "version": 3
   },
   "file_extension": ".py",
   "mimetype": "text/x-python",
   "name": "python",
   "nbconvert_exporter": "python",
   "pygments_lexer": "ipython3",
   "version": "3.5.2"
  }
 },
 "nbformat": 4,
 "nbformat_minor": 4
}
