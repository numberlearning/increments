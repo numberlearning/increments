{
 "cells": [
  {
   "cell_type": "markdown",
   "metadata": {},
   "source": [
    "# Test model with NDS"
   ]
  },
  {
   "cell_type": "code",
   "execution_count": 1,
   "metadata": {},
   "outputs": [],
   "source": [
    "import sys\n",
    "sys.path.append(\"..\")\n",
    "sys.path.append(\"../../\")\n",
    "import numpy as np\n",
    "import tensorflow as tf\n",
    "\n",
    "%matplotlib inline\n",
    "import matplotlib.pyplot as plt"
   ]
  },
  {
   "cell_type": "code",
   "execution_count": 3,
   "metadata": {},
   "outputs": [],
   "source": [
    "img_height = 5\n",
    "img_width = 5\n",
    "min_blobs = 1\n",
    "max_blobs = 9\n",
    "output_size = 1\n",
    "num_labels = max_blobs - min_blobs + 1\n",
    "num_sequences = 1000\n",
    "num_runs = 10\n",
    "\n",
    "n_hidden = img_height*img_width\n",
    "unit_std = 0.3 # standard deviation for activated units\n",
    "all_indices = [x for x in range(0, n_hidden)] # possible activated unit position"
   ]
  },
  {
   "cell_type": "code",
   "execution_count": 5,
   "metadata": {},
   "outputs": [],
   "source": [
    "NDS_data = np.load(\"/home/mtfang/increments_copy/NDS_simple_data.npy\")\n",
    "NDS_data = NDS_data.item()\n",
    "images = NDS_data[\"images\"] # size: (1000,10,10000)\n",
    "label_saclar = NDS_data[\"label_scalar\"] "
   ]
  },
  {
   "cell_type": "markdown",
   "metadata": {},
   "source": [
    "# Test NDS with checkpoints"
   ]
  },
  {
   "cell_type": "markdown",
   "metadata": {},
   "source": [
    "- use original model of swap tests (PDP Note 6/9/20)\n",
    "- check /home/mtfang/DRAM/Visualization/Estimation/ClassifyHiddenUnits.ipynb\n",
    "- swap test code: /home/mtfang/DRAM/FF_estimation_classifier(scalar)_swap.py\n"
   ]
  },
  {
   "cell_type": "code",
   "execution_count": 163,
   "metadata": {},
   "outputs": [],
   "source": [
    "# parameters\n",
    "dims = [img_height,img_width] # input_img size\n",
    "batch_size = 1\n",
    "iter_num = 10000\n",
    "MODELNAME = ['constfN', 'decrsfN']\n",
    "MODE = MODELNAME[1]"
   ]
  },
  {
   "cell_type": "code",
   "execution_count": 164,
   "metadata": {},
   "outputs": [
    {
     "name": "stdout",
     "output_type": "stream",
     "text": [
      "MODE(classifier): decrsfN\n",
      "run: 1\n",
      "run: 2\n",
      "run: 3\n",
      "run: 4\n",
      "run: 5\n",
      "run: 6\n",
      "run: 7\n",
      "run: 8\n",
      "run: 9\n",
      "run: 10\n",
      "Done!\n"
     ]
    }
   ],
   "source": [
    "estimate = np.zeros([num_runs, num_sequences, num_labels+1]) # estimate of NDS: e(n,s)\n",
    "difference = np.zeros([num_runs, num_sequences, num_labels]) # differences between consecutive d(n,s)=e(n,s)-e(n-1,s)\n",
    "\n",
    "print(\"MODE(scalar):\", MODE)\n",
    "for run_idx in range(num_runs):\n",
    "    test_run = run_idx + 1\n",
    "    print(\"run:\", test_run)\n",
    "    ckpt_file = \"/home/mtfang/DRAM/scalar_model_sd0.3_\"+MODE+\"_new/scalar_model_run_\"+str(test_run)+\"/scalar_model_data_run\"+str(test_run)+\"_epoch\"+str(iter_num)+\".ckpt\"\n",
    "    # load pre-trained model\n",
    "    ckpt_reader = tf.train.load_checkpoint(ckpt_file)\n",
    "    vars_list = tf.train.list_variables(ckpt_file)\n",
    "    output_w = ckpt_reader.get_tensor(\"Variable\") # size(25, 1)\n",
    "    output_b = ckpt_reader.get_tensor(\"Variable_1\") # size(1)\n",
    "    for s_idx in range(num_sequences): \n",
    "        for n_idx in range(num_labels+1):\n",
    "            x = images[s_idx][n_idx]\n",
    "            estimate[run_idx][s_idx][n_idx] = np.matmul(x,output_w)+output_b\n",
    "            if n_idx != 0:\n",
    "                difference[run_idx][s_idx][n_idx-1] = estimate[run_idx][s_idx][n_idx]-estimate[run_idx][s_idx][n_idx-1]\n",
    "print(\"Done!\")"
   ]
  },
  {
   "cell_type": "code",
   "execution_count": 165,
   "metadata": {},
   "outputs": [],
   "source": [
    "#np.save(\"/home/mtfang/increments_copy/data_NDS/simple_scalar_data/simple_scalar_\"+MODE+\"_estimate.npy\", estimate)\n",
    "#np.save(\"/home/mtfang/increments_copy/data_NDS/simple_scalar_data/simple_scalar_\"+MODE+\"_difference.npy\", difference)"
   ]
  },
  {
   "cell_type": "code",
   "execution_count": 166,
   "metadata": {},
   "outputs": [],
   "source": [
    "# the mean md(n) and standard deviation sdd(n) of d(n,s) over a population of sequences s\n",
    "md_n = np.mean(difference, axis=1) \n",
    "sdd_n = np.std(difference, axis=1, ddof=1)\n",
    "# c(n,n-1): the correlation of the variability in the n'th difference with the preceding difference\n",
    "c_n = np.zeros([num_runs, num_labels-1])\n",
    "for run_idx in range(num_runs):\n",
    "    for n_idx in range(1, num_labels):\n",
    "        d_n = difference[run_idx,:,n_idx]\n",
    "        m_n = md_n[run_idx][n_idx]\n",
    "        sd_n = sdd_n[run_idx][n_idx]\n",
    "        \n",
    "        d_n_1 = difference[run_idx,:,n_idx-1]\n",
    "        m_n_1 = md_n[run_idx][n_idx-1]\n",
    "        sd_n_1 = sdd_n[run_idx][n_idx-1]\n",
    "        \n",
    "        #c_n[run_idx][n_idx-1] = np.mean((d_n-m_n)*(d_n_1-m_n_1))/(sd_n*sd_n_1)\n",
    "        c_n[run_idx][n_idx-1] = np.corrcoef(difference[run_idx,:,n_idx], difference[run_idx,:,n_idx-1])[0,1]"
   ]
  },
  {
   "cell_type": "markdown",
   "metadata": {},
   "source": [
    "# Curve Fitting"
   ]
  },
  {
   "cell_type": "code",
   "execution_count": 167,
   "metadata": {},
   "outputs": [],
   "source": [
    "import math\n",
    "import scipy.stats as st\n",
    "import scipy.optimize as opt\n",
    "\n",
    "\n",
    "def powfit(x, slope, power):\n",
    "    y = slope * np.power(x, power) \n",
    "    return y\n",
    "\n",
    "\n",
    "def get_powreg(cvals, eouts=range(2,10)):\n",
    "    \"\"\"Get power curve of best fit, comparing expected number of blobs to actual number of blobs output.\"\"\"\n",
    "    \n",
    "    slopes = np.zeros(num_runs)\n",
    "    powers = np.zeros(num_runs)\n",
    "    \n",
    "    for run in range(num_runs):\n",
    "        aouts = np.array([cvals[run,eout-min_blobs-1] for eout in eouts])\n",
    "        popt, pcov = opt.curve_fit(powfit, eouts, aouts, [1,1], maxfev=2000)\n",
    "        slopes[run], powers[run] = popt\n",
    "\n",
    "    return slopes, powers\n",
    "\n",
    "def get_CI(vals):\n",
    "    \"\"\"Get the 95% confidence intervals.\"\"\"\n",
    "    n = len(vals)\n",
    "    mean = np.mean(vals)\n",
    "    sd = np.std(vals)\n",
    "    hw = 1.96*sd/math.sqrt(n)\n",
    "#     print(\"CI: (\" + str(mean - hw) + \", \" + str(mean + hw) + \")\")\n",
    "    return round(mean, 4), round(hw, 4)"
   ]
  },
  {
   "cell_type": "code",
   "execution_count": 168,
   "metadata": {},
   "outputs": [],
   "source": [
    "def plot_stats_mu(cval): \n",
    "    \n",
    "    cval_subset = cval[:,1:9] # N=1-9\n",
    "    \n",
    "    smu = np.mean(cval_subset,axis=0)\n",
    "    smin = np.min(cval_subset,axis=0)\n",
    "    smax = np.max(cval_subset,axis=0)\n",
    "    \n",
    "    #fig, ax = plt.subplots(1,1)\n",
    "    fig, ax = plt.subplots(1, 1, figsize=(6,8))\n",
    "    x = [2,3,4,5,6,7,8,9]\n",
    "\n",
    "    tstr = 'Iter = ' + str(iter_num)\n",
    "    ax.set_title(tstr)\n",
    "    ax.plot(x,smu,'k-')\n",
    "    ax.fill_between(x,smin,smax, facecolor='orange')\n",
    "        \n",
    "    ax.set_xlim(1, 10)\n",
    "    ax.set_ylim(0, 3)\n",
    "    ax.set_xticks(x)\n",
    "    #ax.set_yticks(x)\n",
    "    ax.set_xlabel('n', fontsize=15)\n",
    "        \n",
    "    b, c = get_powreg(cval_subset)\n",
    "    b_mean, b_hw = get_CI(b)\n",
    "    c_mean, c_hw = get_CI(c)\n",
    "            \n",
    "    #for j in range(num_runs):\n",
    "    #    print(\"run:%d, b=%.3f, c=%.3f\" % (j+1,b[j],c[j]))\n",
    "        \n",
    "    ax.text(0.75, .6, 'Curve Fitting:\\n' + \\\n",
    "            '$b: ' + str(b_mean) + ' \\pm ' + str(b_hw) + \\\n",
    "            '$ \\n $c: ' + str(c_mean) + ' \\pm ' + str(c_hw) + '$',\n",
    "            horizontalalignment='center',\n",
    "            verticalalignment='bottom',\n",
    "            transform=ax.transAxes)\n",
    "\n",
    "    popt = [b_mean,c_mean]\n",
    "    ax.plot(x, powfit(x, *popt), 'r--',label='fit: b=%5.3f, c=%5.3f' % tuple(popt))\n",
    "        \n",
    "    ax.set_aspect('equal', 'box')\n",
    "    ax.grid(True)\n",
    "\n",
    "plt.show()"
   ]
  },
  {
   "cell_type": "code",
   "execution_count": 169,
   "metadata": {},
   "outputs": [
    {
     "data": {
      "image/png": "[encoded data removed]",
      "text/plain": [
       "<matplotlib.figure.Figure at 0x7f8b85720358>"
      ]
     },
     "metadata": {
      "needs_background": "light"
     },
     "output_type": "display_data"
    }
   ],
   "source": [
    "plot_stats_mu(md_n)"
   ]
  },
  {
   "cell_type": "code",
   "execution_count": 170,
   "metadata": {},
   "outputs": [
    {
     "data": {
      "image/png": "[encoded data removed]",
      "text/plain": [
       "<matplotlib.figure.Figure at 0x7f8b860d5898>"
      ]
     },
     "metadata": {
      "needs_background": "light"
     },
     "output_type": "display_data"
    }
   ],
   "source": [
    "plot_stats_mu(sdd_n)"
   ]
  },
  {
   "cell_type": "code",
   "execution_count": 171,
   "metadata": {},
   "outputs": [
    {
     "data": {
      "text/plain": [
       "<matplotlib.text.Text at 0x7f8b857db400>"
      ]
     },
     "execution_count": 171,
     "metadata": {},
     "output_type": "execute_result"
    },
    {
     "data": {
      "image/png": "[encoded data removed]",
      "text/plain": [
       "<matplotlib.figure.Figure at 0x7f8b8568eb38>"
      ]
     },
     "metadata": {
      "needs_background": "light"
     },
     "output_type": "display_data"
    }
   ],
   "source": [
    "x_c = [2,3,4,5,6,7,8]\n",
    "plt.scatter(x_c*num_runs, np.reshape(c_n[:,1:8], [1,-1]), s=8, alpha=0.5)\n",
    "plt.scatter(x_c, np.mean(c_n[:,1:8],0), s=20, marker='^', label=\"mean\")\n",
    "plt.legend(loc='upper left', fontsize=12)\n",
    "plt.xlabel(\"n\", fontsize=15)\n",
    "plt.ylabel(\"correlation\", fontsize=15)"
   ]
  },
  {
   "cell_type": "code",
   "execution_count": null,
   "metadata": {},
   "outputs": [],
   "source": []
  }
 ],
 "metadata": {
  "kernelspec": {
   "display_name": "Python 3",
   "language": "python",
   "name": "python3"
  },
  "language_info": {
   "codemirror_mode": {
    "name": "ipython",
    "version": 3
   },
   "file_extension": ".py",
   "mimetype": "text/x-python",
   "name": "python",
   "nbconvert_exporter": "python",
   "pygments_lexer": "ipython3",
   "version": "3.5.2"
  }
 },
 "nbformat": 4,
 "nbformat_minor": 2
}
