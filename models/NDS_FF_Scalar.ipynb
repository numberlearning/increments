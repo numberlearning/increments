{
 "cells": [
  {
   "cell_type": "markdown",
   "metadata": {},
   "source": [
    "# Test model with NDS"
   ]
  },
  {
   "cell_type": "code",
   "execution_count": 1,
   "metadata": {},
   "outputs": [],
   "source": [
    "import sys\n",
    "sys.path.append(\"..\")\n",
    "sys.path.append(\"../../\")\n",
    "import numpy as np\n",
    "import tensorflow as tf\n",
    "\n",
    "%matplotlib inline\n",
    "import matplotlib.pyplot as plt\n",
    "\n",
    "from model_settings import img_height, img_width, min_blobs_test, max_blobs_test, max_blobs_train, min_blobs_train"
   ]
  },
  {
   "cell_type": "code",
   "execution_count": 19,
   "metadata": {},
   "outputs": [],
   "source": [
    "margin = 5\n",
    "spacing = 20\n",
    "width = height = 3\n",
    "min_blobs = min_blobs_test # 1\n",
    "max_blobs = max_blobs_test # 9\n",
    "output_size = 1\n",
    "num_labels = max_blobs - min_blobs + 1 # 10\n",
    "num_sequences = 1000\n",
    "num_runs = 10"
   ]
  },
  {
   "cell_type": "code",
   "execution_count": 3,
   "metadata": {},
   "outputs": [],
   "source": [
    "NDS_data = np.load(\"/home/mtfang/increments_copy/NDS_data.npy\")\n",
    "NDS_data = NDS_data.item()\n",
    "images = NDS_data[\"images\"] # size: (1000,10,10000)\n",
    "label_saclar = NDS_data[\"label_scalar\"] "
   ]
  },
  {
   "cell_type": "markdown",
   "metadata": {},
   "source": [
    "# Test NDS with checkpoints"
   ]
  },
  {
   "cell_type": "markdown",
   "metadata": {},
   "source": [
    "- use original model of swap tests (PDP Note 6/9/20)\n",
    "- check /home/mtfang/DRAM/Visualization/Estimation/ClassifyHiddenUnits.ipynb\n",
    "- swap test code: /home/mtfang/DRAM/FF_estimation_classifier(scalar)_swap.py\n"
   ]
  },
  {
   "cell_type": "code",
   "execution_count": 60,
   "metadata": {},
   "outputs": [],
   "source": [
    "# parameters\n",
    "read_n = 15  # N x N filterbank for each layer\n",
    "dims = [img_height,img_width] # input_img size\n",
    "eps = 1e-8 # epsilon for numerical stability\n",
    "delta_1=max(dims[0],dims[1])/(read_n-1) \n",
    "sigma2_1=delta_1*delta_1/4 # sigma=delta/2 \n",
    "batch_size = 1\n",
    "iter_num = 3000000\n",
    "MODELNAME = ['CAA_const_fN', 'CAA_decrs_fN', 'DAA_const_fN', 'DAA_decrs_fN']\n",
    "MODE = MODELNAME[3]"
   ]
  },
  {
   "cell_type": "code",
   "execution_count": 61,
   "metadata": {},
   "outputs": [],
   "source": [
    "def filterbank(gx, gy, N):\n",
    "    grid_i = np.reshape(np.arange(N), [1, -1])\n",
    "    mu_x_1 = gx + (grid_i - N / 2 + 0.5) * delta_1 # eq 19 batch_size x N\n",
    "    mu_y_1 = gy + (grid_i - N / 2 + 0.5) * delta_1 # eq 20 batch_size x N\n",
    "    a = np.reshape(np.arange(dims[0]), [1, 1, -1]) # 1 x 1 x dims[0]\n",
    "    b = np.reshape(np.arange(dims[1]), [1, 1, -1]) # 1 x 1 x dims[1]\n",
    "\n",
    "    mu_x_1 = np.reshape(mu_x_1, [-1, N, 1]) # batch_size x N x 1\n",
    "    mu_y_1 = np.reshape(mu_y_1, [-1, N, 1])\n",
    "    Fx_1 = np.exp(-np.square(a - mu_x_1) / (2*sigma2_1)) # batch_size x N x dims[0]\n",
    "    Fy_1 = np.exp(-np.square(b - mu_y_1) / (2*sigma2_1)) # batch_size x N x dims[1]\n",
    "    # normalize, sum over A and B dims\n",
    "    Fx_1=Fx_1/np.maximum(np.sum(Fx_1,2,keepdims=True),eps)\n",
    "    Fy_1=Fy_1/np.maximum(np.sum(Fy_1,2,keepdims=True),eps)\n",
    "    return Fx_1, Fy_1, mu_x_1, mu_y_1\n",
    "\n",
    "def attn_window(scope, N):  \n",
    "    gx=dims[0]/2  \n",
    "    gy=dims[1]/2 \n",
    "    gx=np.reshape([gx]*batch_size, [batch_size,1])\n",
    "    gy=np.reshape([gy]*batch_size, [batch_size,1])\n",
    "    Fx_1, Fy_1, mu_x_1, mu_y_1 = filterbank(gx, gy, N)\n",
    "    return Fx_1, Fy_1, gx, gy\n",
    "\n",
    "\n",
    "def read(x):\n",
    "    Fx_1, Fy_1, gx, gy = attn_window(\"read\", read_n)\n",
    "    stats = Fx_1, Fy_1\n",
    "    new_stats = gx, gy\n",
    "    \n",
    "    def filter_img(img, Fx_1, Fy_1, N):\n",
    "        Fxt_1 = np.transpose(Fx_1, axes=[0,2,1])\n",
    "        # img: 1 x img_size\n",
    "        img = np.reshape(img,[-1, dims[1], dims[0]])\n",
    "        fimg_1 = np.matmul(Fy_1, np.matmul(img, Fxt_1))\n",
    "        fimg_1 = np.reshape(fimg_1,[-1, N*N])\n",
    "        # normalization (if do norm, Pc will be nan)\n",
    "        # scalar_1 = tf.reshape(tf.reduce_max(fimg_1, 1), [batch_size, 1])\n",
    "        # fimg_1 = fimg_1/tf.reduce_max(fimg_1, 1, keepdims=True)\n",
    "        fimg = fimg_1 \n",
    "        return fimg\n",
    "\n",
    "    xr = filter_img(x, Fx_1, Fy_1, read_n) # batch_size x (read_n*read_n)\n",
    "    return xr, new_stats # concat along feature axis\n",
    "\n",
    "def linear(x, w, b):\n",
    "    output = np.matmul(x, w) + b\n",
    "    return output\n",
    "\n",
    "def hidden_activation(x, w, b):\n",
    "    xr, _ = read(x)\n",
    "    hidden = np.maximum(0, linear(xr, w, b))\n",
    "    return hidden\n",
    "\n",
    "def classifier(h, w, b):\n",
    "    classification = linear(hidden, w, b)\n",
    "    return classification"
   ]
  },
  {
   "cell_type": "code",
   "execution_count": 62,
   "metadata": {},
   "outputs": [
    {
     "name": "stdout",
     "output_type": "stream",
     "text": [
      "MODE(classifier): DAA_decrs_fN\n",
      "run: 1\n",
      "run: 2\n",
      "run: 3\n",
      "run: 4\n",
      "run: 5\n",
      "run: 6\n",
      "run: 7\n",
      "run: 8\n",
      "run: 9\n",
      "run: 10\n",
      "Done!\n"
     ]
    }
   ],
   "source": [
    "estimate = np.zeros([num_runs, num_sequences, num_labels+1]) # estimate of NDS: e(n,s)\n",
    "difference = np.zeros([num_runs, num_sequences, num_labels]) # differences between consecutive d(n,s)=e(n,s)-e(n-1,s)\n",
    "\n",
    "print(\"MODE(scalar):\", MODE)\n",
    "for run_idx in range(num_runs):\n",
    "    test_run = run_idx + 1\n",
    "    print(\"run:\", test_run)\n",
    "    ckpt_file = \"/home/mtfang/DRAM/model_runs/estimation/scalar_model/scalar_\"+MODE+\"_run\"+str(test_run)+\"/classifymodel_\"+str(iter_num)+\".ckpt\"\n",
    "    # load pre-trained model\n",
    "    ckpt_reader = tf.train.load_checkpoint(ckpt_file)\n",
    "    hidden_w = ckpt_reader.get_tensor(\"hidden/w\") # size(225,250)\n",
    "    hidden_b = ckpt_reader.get_tensor(\"hidden/b\") # size(250,)\n",
    "    output_w = ckpt_reader.get_tensor(\"output/w\") # size(250,15)\n",
    "    output_b = ckpt_reader.get_tensor(\"output/b\") # size(15,)\n",
    "    for s_idx in range(num_sequences): \n",
    "        for n_idx in range(num_labels+1):\n",
    "            x = images[s_idx][n_idx]\n",
    "            hidden = hidden_activation(x, hidden_w, hidden_b)\n",
    "            classification = classifier(hidden, output_w, output_b)\n",
    "            estimate[run_idx][s_idx][n_idx] = classification\n",
    "            if n_idx != 0:\n",
    "                difference[run_idx][s_idx][n_idx-1] = estimate[run_idx][s_idx][n_idx]-estimate[run_idx][s_idx][n_idx-1]\n",
    "print(\"Done!\")"
   ]
  },
  {
   "cell_type": "code",
   "execution_count": 63,
   "metadata": {},
   "outputs": [],
   "source": [
    "np.save(\"/home/mtfang/increments_copy/data_NDS/FF_scalar_data/FF_scalar_\"+MODE+\"_estimate.npy\", estimate)\n",
    "np.save(\"/home/mtfang/increments_copy/data_NDS/FF_scalar_data/FF_scalar_\"+MODE+\"_difference.npy\", difference)"
   ]
  },
  {
   "cell_type": "code",
   "execution_count": 64,
   "metadata": {},
   "outputs": [],
   "source": [
    "# the mean md(n) and standard deviation sdd(n) of d(n,s) over a population of sequences s\n",
    "md_n = np.mean(difference, axis=1) \n",
    "sdd_n = np.std(difference, axis=1, ddof=1)\n",
    "# c(n,n-1): the correlation of the variability in the n'th difference with the preceding difference\n",
    "c_n = np.zeros([num_runs, num_labels-1])\n",
    "for run_idx in range(num_runs):\n",
    "    for n_idx in range(1, num_labels):\n",
    "        d_n = difference[run_idx,:,n_idx]\n",
    "        m_n = md_n[run_idx][n_idx]\n",
    "        sd_n = sdd_n[run_idx][n_idx]\n",
    "        \n",
    "        d_n_1 = difference[run_idx,:,n_idx-1]\n",
    "        m_n_1 = md_n[run_idx][n_idx-1]\n",
    "        sd_n_1 = sdd_n[run_idx][n_idx-1]\n",
    "        \n",
    "        #c_n[run_idx][n_idx-1] = np.mean((d_n-m_n)*(d_n_1-m_n_1))/(sd_n*sd_n_1)\n",
    "        c_n[run_idx][n_idx-1] = np.corrcoef(difference[run_idx,:,n_idx], difference[run_idx,:,n_idx-1])[0,1]"
   ]
  },
  {
   "cell_type": "markdown",
   "metadata": {},
   "source": [
    "# Curve Fitting"
   ]
  },
  {
   "cell_type": "code",
   "execution_count": 65,
   "metadata": {},
   "outputs": [],
   "source": [
    "import math\n",
    "import scipy.stats as st\n",
    "import scipy.optimize as opt\n",
    "\n",
    "\n",
    "def powfit(x, slope, power):\n",
    "    y = slope * np.power(x, power) \n",
    "    return y\n",
    "\n",
    "\n",
    "def get_powreg(cvals, eouts=range(2,10)):\n",
    "    \"\"\"Get power curve of best fit, comparing expected number of blobs to actual number of blobs output.\"\"\"\n",
    "    \n",
    "    slopes = np.zeros(num_runs)\n",
    "    powers = np.zeros(num_runs)\n",
    "    \n",
    "    for run in range(num_runs):\n",
    "        aouts = np.array([cvals[run,eout-min_blobs-1] for eout in eouts])\n",
    "        popt, pcov = opt.curve_fit(powfit, eouts, aouts, [1,1], maxfev=2000)\n",
    "        slopes[run], powers[run] = popt\n",
    "\n",
    "    return slopes, powers\n",
    "\n",
    "def get_CI(vals):\n",
    "    \"\"\"Get the 95% confidence intervals.\"\"\"\n",
    "    n = len(vals)\n",
    "    mean = np.mean(vals)\n",
    "    sd = np.std(vals)\n",
    "    hw = 1.96*sd/math.sqrt(n)\n",
    "#     print(\"CI: (\" + str(mean - hw) + \", \" + str(mean + hw) + \")\")\n",
    "    return round(mean, 4), round(hw, 4)"
   ]
  },
  {
   "cell_type": "code",
   "execution_count": 66,
   "metadata": {},
   "outputs": [],
   "source": [
    "def plot_stats_mu(cval): \n",
    "    \n",
    "    cval_subset = cval[:,1:9] # N=1-9\n",
    "    \n",
    "    smu = np.mean(cval_subset,axis=0)\n",
    "    smin = np.min(cval_subset,axis=0)\n",
    "    smax = np.max(cval_subset,axis=0)\n",
    "    \n",
    "    #fig, ax = plt.subplots(1,1)\n",
    "    fig, ax = plt.subplots(1, 1, figsize=(6,8))\n",
    "    x = [2,3,4,5,6,7,8,9]\n",
    "\n",
    "    tstr = 'Iter = ' + str(iter_num)\n",
    "    ax.set_title(tstr)\n",
    "    ax.plot(x,smu,'k-')\n",
    "    ax.fill_between(x,smin,smax, facecolor='orange')\n",
    "        \n",
    "    ax.set_xlim(1, 10)\n",
    "    ax.set_ylim(0, 3)\n",
    "    ax.set_xticks(x)\n",
    "    #ax.set_yticks(x)\n",
    "    ax.set_xlabel('n', fontsize=15)\n",
    "        \n",
    "    b, c = get_powreg(cval_subset)\n",
    "    b_mean, b_hw = get_CI(b)\n",
    "    c_mean, c_hw = get_CI(c)\n",
    "            \n",
    "    #for j in range(num_runs):\n",
    "    #    print(\"run:%d, b=%.3f, c=%.3f\" % (j+1,b[j],c[j]))\n",
    "        \n",
    "    ax.text(0.75, .6, 'Curve Fitting:\\n' + \\\n",
    "            '$b: ' + str(b_mean) + ' \\pm ' + str(b_hw) + \\\n",
    "            '$ \\n $c: ' + str(c_mean) + ' \\pm ' + str(c_hw) + '$',\n",
    "            horizontalalignment='center',\n",
    "            verticalalignment='bottom',\n",
    "            transform=ax.transAxes)\n",
    "\n",
    "    popt = [b_mean,c_mean]\n",
    "    ax.plot(x, powfit(x, *popt), 'r--',label='fit: b=%5.3f, c=%5.3f' % tuple(popt))\n",
    "        \n",
    "    ax.set_aspect('equal', 'box')\n",
    "    ax.grid(True)\n",
    "\n",
    "plt.show()"
   ]
  },
  {
   "cell_type": "code",
   "execution_count": 67,
   "metadata": {},
   "outputs": [
    {
     "data": {
      "image/png": "[encoded data removed]",
      "text/plain": [
       "<matplotlib.figure.Figure at 0x7fcb22d5da20>"
      ]
     },
     "metadata": {
      "needs_background": "light"
     },
     "output_type": "display_data"
    }
   ],
   "source": [
    "plot_stats_mu(md_n)"
   ]
  },
  {
   "cell_type": "code",
   "execution_count": 58,
   "metadata": {},
   "outputs": [
    {
     "data": {
      "image/png": "[encoded data removed]",
      "text/plain": [
       "<matplotlib.figure.Figure at 0x7fcb22e51b00>"
      ]
     },
     "metadata": {
      "needs_background": "light"
     },
     "output_type": "display_data"
    }
   ],
   "source": [
    "plot_stats_mu(sdd_n)"
   ]
  },
  {
   "cell_type": "code",
   "execution_count": 59,
   "metadata": {},
   "outputs": [
    {
     "data": {
      "text/plain": [
       "<matplotlib.text.Text at 0x7fcb22b2d400>"
      ]
     },
     "execution_count": 59,
     "metadata": {},
     "output_type": "execute_result"
    },
    {
     "data": {
      "image/png": "[encoded data removed]",
      "text/plain": [
       "<matplotlib.figure.Figure at 0x7fcb234fdcf8>"
      ]
     },
     "metadata": {
      "needs_background": "light"
     },
     "output_type": "display_data"
    }
   ],
   "source": [
    "x_c = [2,3,4,5,6,7,8]\n",
    "plt.scatter(x_c*num_runs, np.reshape(c_n[:,1:8], [1,-1]), s=8, alpha=0.5)\n",
    "plt.scatter(x_c, np.mean(c_n[:,1:8],0), s=20, marker='^', label=\"mean\")\n",
    "plt.legend(loc='upper left', fontsize=12)\n",
    "plt.xlabel(\"n\", fontsize=15)\n",
    "plt.ylabel(\"correlation\", fontsize=15)"
   ]
  },
  {
   "cell_type": "code",
   "execution_count": null,
   "metadata": {},
   "outputs": [],
   "source": []
  }
 ],
 "metadata": {
  "kernelspec": {
   "display_name": "Python 3",
   "language": "python",
   "name": "python3"
  },
  "language_info": {
   "codemirror_mode": {
    "name": "ipython",
    "version": 3
   },
   "file_extension": ".py",
   "mimetype": "text/x-python",
   "name": "python",
   "nbconvert_exporter": "python",
   "pygments_lexer": "ipython3",
   "version": "3.5.2"
  }
 },
 "nbformat": 4,
 "nbformat_minor": 2
}
